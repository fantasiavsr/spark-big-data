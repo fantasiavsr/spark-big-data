{
 "cells": [
  {
   "cell_type": "code",
   "execution_count": 3,
   "metadata": {},
   "outputs": [],
   "source": [
    "from pyspark.sql import *\n",
    "import pandas as pd\n",
    "import csv"
   ]
  },
  {
   "cell_type": "code",
   "execution_count": 4,
   "metadata": {},
   "outputs": [
    {
     "name": "stderr",
     "output_type": "stream",
     "text": [
      "/usr/local/lib/python3.9/site-packages/pyspark/bin/load-spark-env.sh: line 68: ps: command not found\n",
      "Setting default log level to \"WARN\".\n",
      "To adjust logging level use sc.setLogLevel(newLevel). For SparkR, use setLogLevel(newLevel).\n"
     ]
    },
    {
     "name": "stdout",
     "output_type": "stream",
     "text": [
      "23/04/11 02:21:24 WARN NativeCodeLoader: Unable to load native-hadoop library for your platform... using builtin-java classes where applicable\n"
     ]
    }
   ],
   "source": [
    "spark = SparkSession\\\n",
    "            .builder\\\n",
    "            .appName(\"testProject-app\")\\\n",
    "            .getOrCreate()"
   ]
  },
  {
   "cell_type": "code",
   "execution_count": 5,
   "metadata": {},
   "outputs": [
    {
     "name": "stderr",
     "output_type": "stream",
     "text": [
      "                                                                                \r"
     ]
    },
    {
     "name": "stdout",
     "output_type": "stream",
     "text": [
      "23/04/11 02:21:43 WARN package: Truncated the string representation of a plan since it was too large. This behavior can be adjusted by setting 'spark.sql.debug.maxToStringFields'.\n",
      "+--------+-------------------+--------------------+-----------------------+--------------------+-------------+---------------+----------------+--------------------+--------------------+-----------+-----------+-----------------------+--------------------+---------+---------+----------+-------+--------------+--------------+------------------+---------+--------+-------+--------+--------+--------------------+\n",
      "|video_id|       publish_time|          channel_id|                  title|         description|thumbnail_url|thumbnail_width|thumbnail_height|        channel_name|                tags|category_id|live_status|            local_title|   local_description| duration|dimension|definition|caption|license_status|allowed_region|    blocked_region|     view|    like|dislike|favorite| comment|       trending_time|\n",
      "+--------+-------------------+--------------------+-----------------------+--------------------+-------------+---------------+----------------+--------------------+--------------------+-----------+-----------+-----------------------+--------------------+---------+---------+----------+-------+--------------+--------------+------------------+---------+--------+-------+--------+--------+--------------------+\n",
      "|    null|2021-02-05 09:00:34|UCEf_Bc-KVd7onSei...|aespa 에스파 'Foreve...|aespa's new singl...|         null|           null|            null|              SMTOWN|                null|         10|       none|aespa 에스파 'Foreve...|aespa's new singl...|   PT5M7S|      2.0|        hd|   true|          true|          null|              null|7806846.0|857902.0|24078.0|       0| 94961.0|2021-02-07 05:46:...|\n",
      "|    null|2021-02-04 15:54:08|UCYEa4_MC7OFjcWrO...|   [FULL] Siapa di B...|Jakarta, https://...|         null|           null|            null|Indonesia Lawyers...|['tvone', 'tv one...|         25|       none|   [FULL] Siapa di B...|Jakarta, https://...| PT42M30S|      2.0|        hd|  false|          true|          null|              null| 885038.0|  6765.0| 1263.0|       0|  6365.0|2021-02-07 05:46:...|\n",
      "|    null|2021-02-06 03:00:22|UCu12RxQjRQyh79YB...|   CABRIOLET CHALLEN...|Road Party Season...|         null|           null|            null|            Motomobi|['MotoMobi', 'Mob...|          2|       none|   CABRIOLET CHALLEN...|Road Party Season...| PT46M43S|      2.0|        hd|  false|          true|          null|              null| 889708.0| 47895.0|  532.0|       0|  8785.0|2021-02-07 05:46:...|\n",
      "|    null|2021-02-05 20:26:08|UCCuzDCoI3EUOo_nh...|   With Windah Basud...|Join this channel...|         null|           null|            null|                  yb|                null|         20|       none|   With Windah Basud...|Join this channel...| PT45M59S|      2.0|        hd|  false|          true|          null|              null|1006854.0| 91973.0| 3967.0|       0| 12957.0|2021-02-07 05:46:...|\n",
      "|    null|2021-02-03 23:14:54|UC14UlmYlSNiQCBe9...|   🤯 LATE COMEBACK ...|With just two min...|         null|           null|            null|        FC Barcelona|['FC Barcelona', ...|         17|       none|   🤯 LATE COMEBACK ...|With just two min...|  PT5M12S|      2.0|        hd|  false|          true|          null|              null|6275035.0|218131.0| 4289.0|       0| 12799.0|2021-02-07 05:46:...|\n",
      "|    null|2021-02-03 12:00:03|UC6FjcBcH9NVHdfFS...|   SEMPROD: RAFFI AH...|Halo Temen GUA & ...|         null|           null|            null|   KUY Entertainment|['KUY Entertainme...|         24|       none|   SEMPROD: RAFFI AH...|Halo Temen GUA & ...|PT1H2M51S|      2.0|        hd|  false|          true|          null|              null|1807529.0| 63530.0|  978.0|       0|  5608.0|2021-02-07 05:46:...|\n",
      "|    null|2021-02-02 13:39:46|UCRVhCi6T_-Ogs9MP...|   Moeldoko Sebut Da...|Apa Kabar Indones...|         null|           null|            null|Apa Kabar Indones...|['tvone', 'tvonen...|         25|       none|   Moeldoko Sebut Da...|Apa Kabar Indones...| PT20M43S|      2.0|        hd|  false|          true|          null|              null|1493171.0|  8672.0| 1694.0|       0|  9751.0|2021-02-07 05:46:...|\n",
      "|    null|2021-02-06 03:46:12|UCfx3oPv3cJm2aCJ7...|   MAK BETI PUNYA SA...|Halo tim bar bar ...|         null|           null|            null|       Arif muhammad|['arif muhammad',...|         23|       none|   MAK BETI PUNYA SA...|Halo tim bar bar ...|  PT18M4S|      2.0|        hd|  false|          true|          null|              null|1804541.0|105824.0| 2339.0|       0| 11291.0|2021-02-07 05:46:...|\n",
      "|    null|2021-02-03 13:03:47|UCmlgRPrwvyHaS1jY...|       sopankah begitu?|Daftar di Binomo ...|         null|           null|            null|         Picky Picks|['Picky Picks', '...|         22|       none|       sopankah begitu?|Daftar di Binomo ...| PT16M47S|      2.0|        hd|  false|          true|          null|              null|1955271.0|118548.0| 1586.0|       0|  8668.0|2021-02-07 05:46:...|\n",
      "|    null|2021-01-28 07:00:07|UCdpxBSzxXGz_J4K3...|   LEPAS HIJAB! RACH...|Beredar di berita...|         null|           null|            null|         Boy William|                null|         24|       none|   LEPAS HIJAB! RACH...|Beredar di berita...| PT11M44S|      2.0|        hd|  false|          true|          null|              null|8120183.0|327253.0|14383.0|       0| 16660.0|2021-02-07 05:46:...|\n",
      "|    null|2021-02-04 01:00:12|UC-S7cyZCojMeVopB...|   TANTANGAN MAKANAN...|Hari baru - tanta...|         null|           null|            null|123 GO! CHALLENGE...|['jail', '123go',...|         26|       none|   TANTANGAN MAKANAN...|Hari baru - tanta...|  PT10M5S|      2.0|        hd|  false|          true|          null|              null|2683692.0| 21425.0| 4926.0|       0|  2796.0|2021-02-07 05:46:...|\n",
      "|    null|2021-02-05 07:45:10|UCgDk4QmH3kArn9O3...|   3 Composers X Riz...|3 Composers X Riz...|         null|           null|            null|         AFE RECORDS|['3 Composers X R...|         10|       none|   3 Composers X Riz...|3 Composers X Riz...|  PT4M28S|      2.0|        hd|   true|          true|          null|              null| 615355.0| 79095.0|  765.0|       0| 25518.0|2021-02-07 05:46:...|\n",
      "|    null|2021-02-05 10:00:08|UC3G5YxFUwpODOVx1...|   Arsy Widianto, Ti...|Arsy Widianto & T...|         null|           null|            null|    ArsyWidiantoVEVO|['Tiara Andini', ...|         10|       none|   Arsy Widianto, Ti...|Arsy Widianto & T...|   PT4M6S|      2.0|        hd|   true|          true|          null|['IO', 'KP', 'SS']| 556505.0| 46698.0|  908.0|       0| 26431.0|2021-02-07 05:46:...|\n",
      "|    null|2021-01-27 15:00:32|UC-S7cyZCojMeVopB...|   TANTANGAN 100 LAP...|Andai kamu punya ...|         null|           null|            null|123 GO! CHALLENGE...|                null|         26|       none|   TANTANGAN 100 LAP...|Andai kamu punya ...|  PT10M3S|      2.0|        hd|  false|          true|          null|              null|9266635.0| 52805.0|14301.0|       0|  3277.0|2021-02-07 05:46:...|\n",
      "|    null|2021-02-06 11:28:11|UCqv_Kk7LS-kuyU5T...|   GAME POP IT VIRAL...|Assalamu'alaikum ...|         null|           null|            null| Nasya Kaila Nazifah|                null|         20|       none|   GAME POP IT VIRAL...|Assalamu'alaikum ...| PT12M50S|      2.0|        hd|  false|          true|          null|              null| 306309.0| 25961.0| 1200.0|       0| 24255.0|2021-02-07 05:46:...|\n",
      "|    null|2021-02-05 14:11:55|UCC6SejZDisqDrBmc...|   Britney Kimberly ...|Dari umur 3 Tahun...|         null|           null|            null|The Voice Kids In...|['Globaltvseru', ...|         24|       none|   Britney Kimberly ...|Dari umur 3 Tahun...| PT11M44S|      2.0|        hd|  false|          true|          null|              null| 336562.0| 22232.0|  169.0|       0|  2079.0|2021-02-07 05:46:...|\n",
      "|    null|2021-01-31 01:00:01|UC-S7cyZCojMeVopB...|   TANTANGAN EMAS VS...|Ini saatnya untuk...|         null|           null|            null|123 GO! CHALLENGE...|['jail', '123go',...|         26|       none|   TANTANGAN EMAS VS...|Ini saatnya untuk...| PT10M13S|      2.0|        hd|  false|          true|          null|              null|5025124.0| 32100.0| 9341.0|       0|  4043.0|2021-02-07 05:46:...|\n",
      "|    null|2021-02-04 12:14:29|UCdygRiDGTM9kjc-7...|   Bos Preman Penger...|[ tw ] dari SURYA...|         null|           null|            null|        HARIAN SURYA|['Bos Preman Peng...|         25|       none|   Bos Preman Penger...|[ tw ] dari SURYA...|  PT2M43S|      2.0|        hd|  false|          true|          null|              null|1286778.0|  7584.0|  374.0|       0|  5168.0|2021-02-07 05:46:...|\n",
      "|    null|2021-02-04 09:00:09|UCEf_Bc-KVd7onSei...|aespa 에스파 'Foreve...|aespa's new singl...|         null|           null|            null|              SMTOWN|                null|         10|       none|aespa 에스파 'Foreve...|aespa's new singl...|    PT34S|      2.0|        hd|  false|          true|          null|              null|1926293.0|274399.0| 6301.0|       0| 16390.0|2021-02-07 05:46:...|\n",
      "|    null|2021-02-02 07:00:02|UCdpxBSzxXGz_J4K3...|   LESTI: MA DEDE HA...|                null|         null|           null|            null|         Boy William|['Lesti Kejora', ...|         24|       none|   LESTI: MA DEDE HA...|                null| PT15M35S|      2.0|        hd|  false|          true|          null|              null|5342102.0|293324.0| 8254.0|       0|100359.0|2021-02-07 05:46:...|\n",
      "+--------+-------------------+--------------------+-----------------------+--------------------+-------------+---------------+----------------+--------------------+--------------------+-----------+-----------+-----------------------+--------------------+---------+---------+----------+-------+--------------+--------------+------------------+---------+--------+-------+--------+--------+--------------------+\n",
      "only showing top 20 rows\n",
      "\n"
     ]
    }
   ],
   "source": [
    "df = spark.read.csv(\"./data/trending.csv\", header=True, inferSchema=True, multiLine=True, escape='\"')\n",
    "df.show()"
   ]
  },
  {
   "cell_type": "code",
   "execution_count": 15,
   "metadata": {},
   "outputs": [
    {
     "name": "stderr",
     "output_type": "stream",
     "text": [
      "[Stage 20:>                                                         (0 + 1) / 1]\r"
     ]
    }
   ],
   "source": []
  }
 ],
 "metadata": {
  "kernelspec": {
   "display_name": "Python 3",
   "language": "python",
   "name": "python3"
  },
  "language_info": {
   "codemirror_mode": {
    "name": "ipython",
    "version": 3
   },
   "file_extension": ".py",
   "mimetype": "text/x-python",
   "name": "python",
   "nbconvert_exporter": "python",
   "pygments_lexer": "ipython3",
   "version": "3.9.8"
  },
  "orig_nbformat": 4
 },
 "nbformat": 4,
 "nbformat_minor": 2
}
